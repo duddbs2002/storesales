{
 "cells": [
  {
   "cell_type": "code",
   "execution_count": 17,
   "metadata": {},
   "outputs": [],
   "source": [
    "import pandas as pd\n",
    "import seaborn as sns\n",
    "import numpy as np\n",
    "import lightgbm as lgb\n",
    "from sklearn.metrics import make_scorer\n",
    "from sklearn.model_selection import GridSearchCV\n",
    "\n",
    "def rmsle(y_true, y_pred):\n",
    "    \"\"\"Root Mean Squared Logarithmic Error\"\"\"\n",
    "    return np.sqrt(np.mean((np.log1p(y_pred) - np.log1p(y_true)) ** 2))\n"
   ]
  },
  {
   "cell_type": "code",
   "execution_count": 13,
   "metadata": {},
   "outputs": [],
   "source": [
    "# 전처리(Label Encoding)되 데이터 로드\n",
    "X_train = pd.read_csv('TestData/train_data_label_encoded.csv')\n",
    "y_train = pd.read_csv('TestData/train_target.csv')\n",
    "X_val = pd.read_csv('TestData/val_data_label_encoded.csv')\n",
    "y_val = pd.read_csv('TestData/val_target.csv')\n",
    "\n",
    "# 학습에 사용하지 않을 컬럼 삭제\n",
    "X_train.drop(['id', 'date', 'date_type', 'day'], axis=1, inplace=True)\n",
    "X_val.drop(['id', 'date', 'date_type', 'day'], axis=1, inplace=True)"
   ]
  },
  {
   "cell_type": "code",
   "execution_count": null,
   "metadata": {},
   "outputs": [],
   "source": [
    "# LightGBM 모델 생성\n",
    "\n",
    "# LightGBM 파라미터 설정\n",
    "params = {\n",
    "    'metric': 'rmsle',\n",
    "    'num_leaves': 255,\n",
    "    'learning_rate': 0.01, \n",
    "    'random_state': 10\n",
    "}\n",
    "\n",
    "# LightGBM 모델 설정\n",
    "model = lgb.LGBMRegressor(\n",
    "    metric=params['metric'],\n",
    "    num_leaves=params['num_leaves'],\n",
    "    learning_rate=params['learning_rate'],\n",
    "    random_state=params['random_state']\n",
    ")"
   ]
  },
  {
   "cell_type": "code",
   "execution_count": null,
   "metadata": {},
   "outputs": [],
   "source": [
    "# GVSearchCV로 LGBMRegressor 모델을 최적화하기 위한 하이퍼파라미터 그리드 설정\n",
    "param_grid = {\n",
    "    'n_estimators': [50, 100, 150],\n",
    "    'learning_rate': [0.01, 0.1, 0.2],\n",
    "    'num_leaves': [31, 63, 127],\n",
    "    'max_depth': [-1, 10, 20]\n",
    "}\n"
   ]
  },
  {
   "cell_type": "code",
   "execution_count": 18,
   "metadata": {},
   "outputs": [
    {
     "name": "stdout",
     "output_type": "stream",
     "text": [
      "Fitting 5 folds for each of 81 candidates, totalling 405 fits\n"
     ]
    }
   ],
   "source": [
    "# 모델을 평가하기 위한 rmsle 스코어 함수 생성\n",
    "rmsle_scorer = make_scorer(rmsle, greater_is_better=False)\n",
    "\n",
    "# GridSearchCV 객체 생성\n",
    "grid_search = GridSearchCV(estimator=model, param_grid=param_grid, cv=5, scoring=rmsle_scorer, verbose=1, n_jobs=-1)\n",
    "\n",
    "# GridSearchCV 학습\n",
    "grid_search.fit(X_train, y_train)\n",
    "\n",
    "# 최적 하이퍼파라미터 및 성능 출력\n",
    "print(\"Best Parameters:\", grid_search.best_params_)\n",
    "print(\"Best Score:\", grid_search.best_score_)\n",
    "\n",
    "# 최적 모델로 테스트 데이터 평가\n",
    "best_model = grid_search.best_estimator_\n",
    "y_pred = best_model.predict(X_val)\n",
    "y_pred = np.clip(y_pred, a_min=0, a_max=None)\n",
    "score = rmsle(y_val, y_pred)\n",
    "print(\"RMSLE:\", score)"
   ]
  }
 ],
 "metadata": {
  "kernelspec": {
   "display_name": "myenv",
   "language": "python",
   "name": "python3"
  },
  "language_info": {
   "codemirror_mode": {
    "name": "ipython",
    "version": 3
   },
   "file_extension": ".py",
   "mimetype": "text/x-python",
   "name": "python",
   "nbconvert_exporter": "python",
   "pygments_lexer": "ipython3",
   "version": "3.8.10"
  }
 },
 "nbformat": 4,
 "nbformat_minor": 2
}
