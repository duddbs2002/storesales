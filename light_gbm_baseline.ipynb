{
 "cells": [
  {
   "cell_type": "code",
   "execution_count": null,
   "metadata": {},
   "outputs": [],
   "source": [
    "import pandas as pd\n",
    "import seaborn as sns\n",
    "import numpy as np\n",
    "import os\n",
    "\n",
    "# train, store, holiday_events, oil, test 데이터 로드 / df_test 데이터에 대한 transaction 데이터는 존재하지 않기 때문에 transcation 데이터는 모델 학습에 사용하지 않음\n",
    "path = 'store-sales-time-series-forecasting/'\n",
    "df_train = pd.read_csv(path + 'train.csv',parse_dates =['date'])\n",
    "df_stores = pd.read_csv(path + 'stores.csv')\n",
    "df_holiday_events = pd.read_csv(path + 'holidays_events.csv',parse_dates =['date'])\n",
    "df_oil = pd.read_csv(path + 'oil.csv',parse_dates =['date'])\n",
    "df_test = pd.read_csv(path + 'test.csv',parse_dates =['date'])"
   ]
  }
 ],
 "metadata": {
  "language_info": {
   "name": "python"
  }
 },
 "nbformat": 4,
 "nbformat_minor": 2
}
