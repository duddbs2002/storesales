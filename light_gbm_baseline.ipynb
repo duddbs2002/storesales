{
 "cells": [
  {
   "cell_type": "code",
   "execution_count": 15,
   "metadata": {},
   "outputs": [],
   "source": [
    "import pandas as pd\n",
    "import seaborn as sns\n",
    "import numpy as np\n",
    "import lightgbm as lgb"
   ]
  },
  {
   "cell_type": "code",
   "execution_count": 13,
   "metadata": {},
   "outputs": [],
   "source": [
    "# 전처리(Label Encoding)되 데이터 로드\n",
    "X_train = pd.read_csv('TestData/train_data_label_encoded.csv')\n",
    "y_train = pd.read_csv('TestData/train_target.csv')\n",
    "X_val = pd.read_csv('TestData/val_data_label_encoded.csv')\n",
    "y_val = pd.read_csv('TestData/val_target.csv')\n",
    "\n",
    "# 학습에 사용하지 않을 컬럼 삭제\n",
    "X_train.drop(['id', 'date', 'date_type', 'day'], axis=1, inplace=True)\n",
    "X_val.drop(['id', 'date', 'date_type', 'day'], axis=1, inplace=True)"
   ]
  },
  {
   "cell_type": "code",
   "execution_count": 14,
   "metadata": {},
   "outputs": [
    {
     "name": "stdout",
     "output_type": "stream",
     "text": [
      "[LightGBM] [Info] Auto-choosing row-wise multi-threading, the overhead of testing was 0.040411 seconds.\n",
      "You can set `force_row_wise=true` to remove the overhead.\n",
      "And if memory is not enough, you can set `force_col_wise=true`.\n",
      "[LightGBM] [Info] Total Bins 720\n",
      "[LightGBM] [Info] Number of data points in the train set: 2945646, number of used features: 12\n",
      "[LightGBM] [Info] Start training from score 355.629570\n",
      "RMSLE: 2.7239660779309998\n"
     ]
    }
   ],
   "source": [
    "# 모델 파라미터 설정\n",
    "params = {\n",
    "    'metric': 'rmsle',\n",
    "    'num_leaves': 255,\n",
    "    'learning_rate': 0.01, \n",
    "    'random_state': 10\n",
    "}\n",
    "\n",
    "# LightGBM 모델 설정\n",
    "model = lgb.LGBMRegressor(\n",
    "    metric=params['metric'],\n",
    "    num_leaves=params['num_leaves'],\n",
    "    learning_rate=params['learning_rate'],\n",
    "    random_state=params['random_state']\n",
    ")\n",
    "\n",
    "# 모델 학습\n",
    "model.fit(X_train, y_train)\n",
    "\n",
    "# 검증 데이터에 대해 예측\n",
    "y_pred = model.predict(X_val)\n",
    "\n",
    "y_pred = np.clip(y_pred, a_min=0, a_max=None)\n",
    "\n",
    "# 성능 평가\n",
    "rmsle = mean_squared_log_error(y_val, y_pred, squared=False)\n",
    "print(f'RMSLE: {rmsle}')\n"
   ]
  }
 ],
 "metadata": {
  "kernelspec": {
   "display_name": "myenv",
   "language": "python",
   "name": "python3"
  },
  "language_info": {
   "codemirror_mode": {
    "name": "ipython",
    "version": 3
   },
   "file_extension": ".py",
   "mimetype": "text/x-python",
   "name": "python",
   "nbconvert_exporter": "python",
   "pygments_lexer": "ipython3",
   "version": "3.8.10"
  }
 },
 "nbformat": 4,
 "nbformat_minor": 2
}
