{
 "cells": [
  {
   "cell_type": "code",
   "execution_count": 1,
   "metadata": {},
   "outputs": [],
   "source": [
    "import pandas as pd\n",
    "import seaborn as sns\n",
    "import numpy as np\n",
    "from sklearn.ensemble import RandomForestRegressor\n",
    "from sklearn.metrics import make_scorer\n",
    "from sklearn.model_selection import GridSearchCV\n",
    "\n",
    "def rmsle(y_true, y_pred):\n",
    "    \"\"\"Root Mean Squared Logarithmic Error\"\"\"\n",
    "    return np.sqrt(np.mean((np.log1p(y_pred) - np.log1p(y_true)) ** 2))\n"
   ]
  },
  {
   "cell_type": "code",
   "execution_count": 41,
   "metadata": {},
   "outputs": [],
   "source": [
    "# 전처리(Label Encoding)되 데이터 로드\n",
    "X_train = pd.read_csv('TestData/train_data_label_encoded.csv')\n",
    "y_train = pd.read_csv('TestData/train_target.csv').iloc[:, 0]\n",
    "X_val = pd.read_csv('TestData/val_data_label_encoded.csv')\n",
    "y_val = pd.read_csv('TestData/val_target.csv').iloc[:, 0]\n",
    "\n",
    "# 학습에 사용하지 않을 컬럼 삭제\n",
    "X_train.drop(['id', 'date', 'date_type', 'day'], axis=1, inplace=True)\n",
    "X_val.drop(['id', 'date', 'date_type', 'day'], axis=1, inplace=True)"
   ]
  },
  {
   "cell_type": "code",
   "execution_count": 45,
   "metadata": {},
   "outputs": [],
   "source": [
    "# RandomForestRegressor 모델 생성\n",
    "model = RandomForestRegressor(random_state=42)\n"
   ]
  },
  {
   "cell_type": "code",
   "execution_count": 46,
   "metadata": {},
   "outputs": [],
   "source": [
    "# GVSearchCV로 RandomForestRegressor 모델을 최적화하기 위한 하이퍼파라미터 그리드 설정\n",
    "param_grid = {\n",
    "    'n_estimators': [50, 100, 200],  # 트리 개수\n",
    "    'max_depth': [None, 10, 20, 30],  # 트리의 최대 깊이\n",
    "    'min_samples_split': [2, 5, 10],  # 노드를 분할하기 위한 최소 샘플 수\n",
    "    'min_samples_leaf': [1, 2, 4],  # 리프 노드에 필요한 최소 샘플 수\n",
    "    'bootstrap': [True, False]  # 부트스트랩 샘플링 여부\n",
    "}"
   ]
  },
  {
   "cell_type": "code",
   "execution_count": 47,
   "metadata": {},
   "outputs": [
    {
     "name": "stdout",
     "output_type": "stream",
     "text": [
      "Fitting 5 folds for each of 81 candidates, totalling 405 fits\n"
     ]
    }
   ],
   "source": [
    "# 모델을 평가하기 위한 rmsle 스코어 함수 생성\n",
    "rmsle_scorer = make_scorer(rmsle, greater_is_better=False)\n",
    "\n",
    "# GridSearchCV 객체 생성\n",
    "grid_search = GridSearchCV(estimator=model, param_grid=param_grid, cv=5, scoring=rmsle_scorer, verbose=1, n_jobs=-1)\n",
    "\n",
    "# GridSearchCV 학습\n",
    "grid_search.fit(X_train, y_train)\n",
    "\n",
    "# 최적 하이퍼파라미터 및 성능 출력\n",
    "print(\"Best Parameters:\", grid_search.best_params_)\n",
    "print(\"Best Score:\", grid_search.best_score_)\n",
    "\n",
    "# 최적 모델로 테스트 데이터 평가\n",
    "best_model = grid_search.best_estimator_\n",
    "y_pred = best_model.predict(X_val)\n",
    "y_pred = np.clip(y_pred, a_min=0, a_max=None)\n",
    "\n",
    "# Calculate RMSLE\n",
    "score = rmsle(y_val, y_pred)\n",
    "print(\"RMSLE:\", score)"
   ]
  }
 ],
 "metadata": {
  "kernelspec": {
   "display_name": "myenv",
   "language": "python",
   "name": "python3"
  },
  "language_info": {
   "codemirror_mode": {
    "name": "ipython",
    "version": 3
   },
   "file_extension": ".py",
   "mimetype": "text/x-python",
   "name": "python",
   "nbconvert_exporter": "python",
   "pygments_lexer": "ipython3",
   "version": "3.8.10"
  }
 },
 "nbformat": 4,
 "nbformat_minor": 2
}
